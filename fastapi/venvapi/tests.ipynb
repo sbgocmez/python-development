{
 "cells": [
  {
   "cell_type": "code",
   "execution_count": 8,
   "metadata": {},
   "outputs": [],
   "source": [
    "from fastapi import FastAPI\n",
    "from fastapi.params import Body\n",
    "from fastapi import Response\n",
    "from pydantic import BaseModel\n",
    "from typing import Optional\n",
    "from fastapi import status\n",
    "from fastapi import HTTPException\n"
   ]
  },
  {
   "cell_type": "code",
   "execution_count": 9,
   "metadata": {},
   "outputs": [
    {
     "name": "stdout",
     "output_type": "stream",
     "text": [
      "/bin/bash: /home/busra/Documents/python-development/fastapi/venvapi/bin/pip3: /home/busra/Documents/fastapi/venvapi/bin/python3: bad interpreter: No such file or directory\n"
     ]
    }
   ],
   "source": [
    "!pip3 install psycopg2-binary"
   ]
  }
 ],
 "metadata": {
  "kernelspec": {
   "display_name": "Python 3.8.10 ('venvapi': venv)",
   "language": "python",
   "name": "python3"
  },
  "language_info": {
   "codemirror_mode": {
    "name": "ipython",
    "version": 3
   },
   "file_extension": ".py",
   "mimetype": "text/x-python",
   "name": "python",
   "nbconvert_exporter": "python",
   "pygments_lexer": "ipython3",
   "version": "3.8.10"
  },
  "orig_nbformat": 4,
  "vscode": {
   "interpreter": {
    "hash": "cfdf8bdf120b6ce1102b93aa29257643fdd2bfffaf82505b486b6f61d2000b79"
   }
  }
 },
 "nbformat": 4,
 "nbformat_minor": 2
}
