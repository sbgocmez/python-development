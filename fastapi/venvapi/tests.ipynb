{
 "cells": [
  {
   "cell_type": "code",
   "execution_count": 16,
   "metadata": {},
   "outputs": [],
   "source": [
    "from fastapi import FastAPI\n",
    "from fastapi.params import Body\n",
    "from fastapi import Response\n",
    "from pydantic import BaseModel\n",
    "from typing import Optional\n",
    "from fastapi import status\n",
    "from fastapi import HTTPException\n",
    "import psycopg2.extras"
   ]
  },
  {
   "cell_type": "code",
   "execution_count": 36,
   "metadata": {},
   "outputs": [],
   "source": [
    "# solution to problem: !python3 -m pip install psycopg2-binary\n",
    "global conn, cursor, menu, cuisine_menu"
   ]
  },
  {
   "cell_type": "code",
   "execution_count": 34,
   "metadata": {},
   "outputs": [],
   "source": [
    "class Food():\n",
    "    def __init__(self, nm, im, pr, rt, tr, cu):\n",
    "        self.name = nm\n",
    "        self.image = im\n",
    "        self.price = pr\n",
    "        self.rating = rt\n",
    "        self.tried = tr\n",
    "        self.cuisine = cu\n",
    "    "
   ]
  },
  {
   "cell_type": "code",
   "execution_count": 32,
   "metadata": {},
   "outputs": [],
   "source": [
    "class CuisineMenu(BaseModel):\n",
    "    def __init__(self, cuisine: str, foods):\n",
    "        self.cuisine = cuisine\n",
    "        self.foods = foods\n",
    "\n",
    "\n",
    "class Menu(BaseModel):\n",
    "    def __init__(self, menus):\n",
    "        self.menus = menus"
   ]
  },
  {
   "cell_type": "code",
   "execution_count": 21,
   "metadata": {},
   "outputs": [],
   "source": [
    "def database_connection():\n",
    "    global conn, cursor\n",
    "    try:\n",
    "        conn = psycopg2.connect(host='0.0.0.0', database='postgres', user='postgres', password='fastapi24', cursor_factory=psycopg2.extras.RealDictCursor)\n",
    "        cursor = conn.cursor()\n",
    "        print(\"[INFO main.py] Database connection is succesfull!\")\n",
    "    except Exception as e:\n",
    "        print(\"[INFO main.py] Database connection is failed! \", e)"
   ]
  },
  {
   "cell_type": "code",
   "execution_count": 22,
   "metadata": {},
   "outputs": [
    {
     "name": "stdout",
     "output_type": "stream",
     "text": [
      "[INFO main.py] Database connection is succesfull!\n"
     ]
    }
   ],
   "source": [
    "database_connection()"
   ]
  },
  {
   "cell_type": "code",
   "execution_count": 48,
   "metadata": {},
   "outputs": [],
   "source": [
    "def create_menu():\n",
    "    global conn, cursor\n",
    "    global menu, cuisine_menu\n",
    "    menu = []\n",
    "    cuisine_menu = []\n",
    "    sql_query = \"\"\"SELECT * FROM foods\"\"\"\n",
    "    cursor.execute(sql_query)\n",
    "\n",
    "    food_records = cursor.fetchall()\n",
    "\n",
    "    current_cuisine = food_records[0]['cuisine_id']\n",
    "    print(current_cuisine)\n",
    "    for food in food_records:\n",
    "        nm, im, pr, rt, tr, cu = food['food_name'], food['food_image'], food['food_price'], food['food_rating'], food['food_tried'], food['cuisine_id']\n",
    "        food_obj = Food(nm, im, pr, rt, tr, cu)\n",
    "        \n",
    "        if (current_cuisine != cu):\n",
    "            print(\"I am here and food name is : \", nm)\n",
    "            print(\"I am here and food name is : \", food_obj.name)\n",
    "\n",
    "            current_cuisine = cu\n",
    "            menu.append(cuisine_menu)\n",
    "            cuisine_menu = []\n",
    "            cuisine_menu.append(food_obj)\n",
    "        \n",
    "        cuisine_menu.append(food_obj)"
   ]
  },
  {
   "cell_type": "code",
   "execution_count": 49,
   "metadata": {},
   "outputs": [
    {
     "name": "stdout",
     "output_type": "stream",
     "text": [
      "1\n",
      "I am here and food name is :  Italian Tuna Pasta\n",
      "I am here and food name is :  Italian Tuna Pasta\n",
      "I am here and food name is :  French Dips With Au Jus\n",
      "I am here and food name is :  French Dips With Au Jus\n",
      "I am here and food name is :  Lebanese Kibbeh\n",
      "I am here and food name is :  Lebanese Kibbeh\n",
      "I am here and food name is :  Japanese Sushi\n",
      "I am here and food name is :  Japanese Sushi\n"
     ]
    }
   ],
   "source": [
    "create_menu()"
   ]
  },
  {
   "cell_type": "code",
   "execution_count": 50,
   "metadata": {},
   "outputs": [
    {
     "name": "stdout",
     "output_type": "stream",
     "text": [
      "[[<__main__.Food object at 0x7f0c00048100>, <__main__.Food object at 0x7f0c00090cd0>, <__main__.Food object at 0x7f0c000900a0>, <__main__.Food object at 0x7f0c00090fa0>, <__main__.Food object at 0x7f0c00090fd0>], [<__main__.Food object at 0x7f0c00df34f0>, <__main__.Food object at 0x7f0c00df34f0>, <__main__.Food object at 0x7f0c0004caf0>, <__main__.Food object at 0x7f0c0004c310>, <__main__.Food object at 0x7f0c0004cd90>, <__main__.Food object at 0x7f0c0004c040>, <__main__.Food object at 0x7f0c0004c370>, <__main__.Food object at 0x7f0c0004c220>], [<__main__.Food object at 0x7f0c0004ce50>, <__main__.Food object at 0x7f0c0004ce50>, <__main__.Food object at 0x7f0c0004c610>, <__main__.Food object at 0x7f0c0004cd00>, <__main__.Food object at 0x7f0c00ecb550>, <__main__.Food object at 0x7f0c0012b520>, <__main__.Food object at 0x7f0c0012b8e0>, <__main__.Food object at 0x7f0c0012b7f0>, <__main__.Food object at 0x7f0c0012ba30>, <__main__.Food object at 0x7f0c0006a190>, <__main__.Food object at 0x7f0c0006a100>], [<__main__.Food object at 0x7f0c0006a250>, <__main__.Food object at 0x7f0c0006a250>, <__main__.Food object at 0x7f0c0006ab50>, <__main__.Food object at 0x7f0c0006a0d0>, <__main__.Food object at 0x7f0c0006a850>, <__main__.Food object at 0x7f0c0006a640>]]\n",
      "5\n",
      "Turkish Delight\n",
      "Turkish squares\n",
      "Turkish Baharat Meatballs with Lentil Pilaf\n",
      "Turkish Chicken Salad with Home-made Cacik Yogurt Sauce\n",
      "Simit (Turkish Circular Bread)\n",
      "#############\n",
      "8\n",
      "Italian Tuna Pasta\n",
      "Italian Tuna Pasta\n",
      "Italian Fig Cookies\n",
      "Italian Panna Cotta\n",
      "Italian Seafood Stew\n",
      "Italian Beef Braciole\n",
      "Italian-Style Meatloaf\n",
      "Italian Style Meatballs\n",
      "#############\n",
      "11\n",
      "French Dips With Au Jus\n",
      "French Dips With Au Jus\n",
      "French Onion Marsala Soup\n",
      "French Silk Chocolate Cake\n",
      "French Onion Salisbury Steak\n",
      "French Style Almond Saffron Cake\n",
      "French Quarter Bananas Foster Cupcakes\n",
      "French Toast Croissants with Strawberries\n",
      "French Inspired Poblano Crepe ‘Enchiladas’\n",
      "Vegan French Toast\n",
      "Pumpkin French Toast\n",
      "#############\n",
      "6\n",
      "Lebanese Kibbeh\n",
      "Lebanese Kibbeh\n",
      "Lebanese Falafel\n",
      "Lebanese Tabouleh\n",
      "Lebanese Lentil Soup\n",
      "Lebanese Sweet Tahini Swirls\n",
      "#############\n"
     ]
    }
   ],
   "source": [
    "print(menu)\n",
    "for cuisine in menu:\n",
    "    print(len(cuisine))\n",
    "    for food in cuisine:\n",
    "        print(food.name)\n",
    "    print(\"#############\")"
   ]
  }
 ],
 "metadata": {
  "kernelspec": {
   "display_name": "Python 3.8.10 ('venvapi': venv)",
   "language": "python",
   "name": "python3"
  },
  "language_info": {
   "codemirror_mode": {
    "name": "ipython",
    "version": 3
   },
   "file_extension": ".py",
   "mimetype": "text/x-python",
   "name": "python",
   "nbconvert_exporter": "python",
   "pygments_lexer": "ipython3",
   "version": "3.8.10"
  },
  "orig_nbformat": 4,
  "vscode": {
   "interpreter": {
    "hash": "cfdf8bdf120b6ce1102b93aa29257643fdd2bfffaf82505b486b6f61d2000b79"
   }
  }
 },
 "nbformat": 4,
 "nbformat_minor": 2
}
