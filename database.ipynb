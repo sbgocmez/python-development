{
 "cells": [
  {
   "cell_type": "code",
   "execution_count": 16,
   "metadata": {},
   "outputs": [],
   "source": [
    "from fastapi import FastAPI\n",
    "from fastapi.params import Body\n",
    "from fastapi import Response\n",
    "from pydantic import BaseModel\n",
    "from typing import Optional\n",
    "from fastapi import status\n",
    "from fastapi import HTTPException\n",
    "import psycopg2.extras"
   ]
  },
  {
   "cell_type": "code",
   "execution_count": 15,
   "metadata": {},
   "outputs": [],
   "source": [
    "# macros, initials\n",
    "cuisines = [\"Turkish\", \"Italian\", \"French\", \"Lebanese\", \"Japanese\"]"
   ]
  },
  {
   "cell_type": "code",
   "execution_count": 17,
   "metadata": {},
   "outputs": [
    {
     "name": "stdout",
     "output_type": "stream",
     "text": [
      "[INFO] Database connected successfully!\n"
     ]
    }
   ],
   "source": [
    "# database connection and initialization\n",
    "try:\n",
    "    connection = psycopg2.connect(host='0.0.0.0', database='postgres', \n",
    "                user='postgres', password='fastapi24', cursor_factory=psycopg2.extras.RealDictCursor)\n",
    "    cursor = connection.cursor()\n",
    "    #connection.setAutoCommit(True)\n",
    "    print(\"[INFO] Database connected successfully!\")\n",
    "except Exception as databaseException:\n",
    "    print(\"[INFO] Connecting to database failed! \", databaseException)"
   ]
  },
  {
   "cell_type": "code",
   "execution_count": null,
   "metadata": {},
   "outputs": [],
   "source": [
    "def create_cuisines_table():\n",
    "    try:\n",
    "        sql_query = (\"\"\" CREATE TABLE IF NOT EXISTS cuisines (\n",
    "                            cuisine_id SERIAL PRIMARY KEY,\n",
    "                            cuisine_name VARCHAR(255) NOT NULL\n",
    "                        )\"\"\")\n",
    "        cursor.execute(sql_query)\n",
    "    except Exception as e:\n",
    "        print(\"[INFO] \", e)"
   ]
  },
  {
   "cell_type": "code",
   "execution_count": null,
   "metadata": {},
   "outputs": [],
   "source": [
    "def insert_cuisines_table():\n",
    "    sql_query = '''INSERT INTO cuisines (cuisine_name) VALUES (%s)'''\n",
    "    for cuisine in cuisines:\n",
    "        cursor.execute(sql_query, (cuisine,))"
   ]
  },
  {
   "cell_type": "code",
   "execution_count": null,
   "metadata": {},
   "outputs": [],
   "source": [
    "create_cuisines_table()\n",
    "connection.commit()"
   ]
  },
  {
   "cell_type": "code",
   "execution_count": null,
   "metadata": {},
   "outputs": [],
   "source": [
    "insert_cuisines_table()\n",
    "connection.commit()"
   ]
  },
  {
   "cell_type": "code",
   "execution_count": 10,
   "metadata": {},
   "outputs": [],
   "source": [
    "from PIL import Image\n",
    "import requests\n",
    "from io import BytesIO\n",
    "import openpyxl\n",
    "\n",
    "url = \"https://spoonacular.com/recipeImages/648606-312x231.jpg\"\n",
    "response = requests.get(url)\n",
    "img = BytesIO(response.content)\n",
    "db_image = img.getbuffer().tobytes()\n"
   ]
  },
  {
   "cell_type": "code",
   "execution_count": 20,
   "metadata": {},
   "outputs": [],
   "source": [
    "def create_foods_table():\n",
    "    try:\n",
    "        sql_query = (\"\"\" CREATE TABLE IF NOT EXISTS foods (\n",
    "                            food_id SERIAL PRIMARY KEY,\n",
    "                            food_name VARCHAR(255) NOT NULL,\n",
    "                            food_image BYTEA,\n",
    "                            food_price INTEGER NOT NULL,\n",
    "                            cuisine_id INTEGER REFERENCES cuisines (cuisine_id)\n",
    "                        )\"\"\")\n",
    "        cursor.execute(sql_query)\n",
    "    except Exception as e:\n",
    "        print(\"[INFO] \", e)\n"
   ]
  },
  {
   "cell_type": "code",
   "execution_count": 21,
   "metadata": {},
   "outputs": [],
   "source": [
    "create_foods_table()\n",
    "connection.commit()"
   ]
  },
  {
   "cell_type": "code",
   "execution_count": null,
   "metadata": {},
   "outputs": [],
   "source": []
  }
 ],
 "metadata": {
  "kernelspec": {
   "display_name": "Python 3.8.10 64-bit",
   "language": "python",
   "name": "python3"
  },
  "language_info": {
   "codemirror_mode": {
    "name": "ipython",
    "version": 3
   },
   "file_extension": ".py",
   "mimetype": "text/x-python",
   "name": "python",
   "nbconvert_exporter": "python",
   "pygments_lexer": "ipython3",
   "version": "3.8.10"
  },
  "orig_nbformat": 4,
  "vscode": {
   "interpreter": {
    "hash": "916dbcbb3f70747c44a77c7bcd40155683ae19c65e1c03b4aa3499c5328201f1"
   }
  }
 },
 "nbformat": 4,
 "nbformat_minor": 2
}
